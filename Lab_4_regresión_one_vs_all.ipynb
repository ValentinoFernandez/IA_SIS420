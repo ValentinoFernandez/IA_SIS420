{
  "nbformat": 4,
  "nbformat_minor": 0,
  "metadata": {
    "colab": {
      "provenance": [],
      "include_colab_link": true
    },
    "kernelspec": {
      "name": "python3",
      "display_name": "Python 3"
    },
    "language_info": {
      "name": "python"
    }
  },
  "cells": [
    {
      "cell_type": "markdown",
      "metadata": {
        "id": "view-in-github",
        "colab_type": "text"
      },
      "source": [
        "<a href=\"https://colab.research.google.com/github/ValentinoFernandez/IA_SIS420/blob/main/Lab_4_regresi%C3%B3n_one_vs_all.ipynb\" target=\"_parent\"><img src=\"https://colab.research.google.com/assets/colab-badge.svg\" alt=\"Open In Colab\"/></a>"
      ]
    },
    {
      "cell_type": "markdown",
      "source": [
        "# Laboratorio 4 - Regresión one vs all (Multiclase)\n",
        "\n",
        "Primero, importamos las librerias necesarias para el ejercicio"
      ],
      "metadata": {
        "id": "n3uMh_ZFtXU7"
      }
    },
    {
      "cell_type": "code",
      "metadata": {
        "id": "_1c4SKnuTSb-"
      },
      "source": [
        "# utilizado para la manipulación de directorios y rutas\n",
        "import os\n",
        "\n",
        "# Cálculo científico y vectorial para python\n",
        "import numpy as np\n",
        "\n",
        "# Libreria para graficos\n",
        "import matplotlib.pyplot as plt\n",
        "\n",
        "# Modulo de optimizacion en scipy\n",
        "from scipy import optimize\n",
        "\n",
        "# le dice a matplotlib que incruste gráficos en el cuaderno\n",
        "%matplotlib inline\n",
        "\n",
        "#Para el manejo del dataset\n",
        "import pandas as pd\n",
        "\n",
        "#Para separar los valores de prueba y entrenamiento\n",
        "from sklearn.model_selection import train_test_split\n",
        "\n",
        "#Para normalizar los datos\n",
        "from sklearn.preprocessing import StandardScaler\n",
        "\n",
        "from scipy.optimize import minimize"
      ],
      "execution_count": 1,
      "outputs": []
    },
    {
      "cell_type": "code",
      "metadata": {
        "id": "dGw2BoW9T5ZL",
        "colab": {
          "base_uri": "https://localhost:8080/"
        },
        "outputId": "b29f23f7-70cd-4896-d1e6-2ccde77f1bf7"
      },
      "source": [
        "from google.colab import drive\n",
        "drive.mount('/content/gdrive')"
      ],
      "execution_count": 2,
      "outputs": [
        {
          "output_type": "stream",
          "name": "stdout",
          "text": [
            "Drive already mounted at /content/gdrive; to attempt to forcibly remount, call drive.mount(\"/content/gdrive\", force_remount=True).\n"
          ]
        }
      ]
    },
    {
      "cell_type": "markdown",
      "source": [
        "Subimos el dataset para poder hacer uso de sus datos. Además separamos las caracteristicas de nuestra varibale objetivo que tiene las distintas clases."
      ],
      "metadata": {
        "id": "zgrzKEJxt67b"
      }
    },
    {
      "cell_type": "code",
      "metadata": {
        "colab": {
          "base_uri": "https://localhost:8080/",
          "height": 495
        },
        "id": "05ykbXNIUVcY",
        "outputId": "015b2cd3-4a73-49a7-8f51-e27cf71b1f7a"
      },
      "source": [
        "data = pd.read_csv('/content/gdrive/MyDrive/Sistemas/Universidad - Sistemas/7mo semestre/IA/Laboratorio/Laboratorio4/covertype.csv', delimiter=',')\n",
        "# print(data)\n",
        "# Separamos caracteristicas de las clases\n",
        "X = data.drop('Cover_Type', axis=1)\n",
        "y = data['Cover_Type']\n",
        "print(X.shape)\n",
        "print(y.shape)\n",
        "\n",
        "data"
      ],
      "execution_count": 3,
      "outputs": [
        {
          "output_type": "stream",
          "name": "stdout",
          "text": [
            "(581012, 54)\n",
            "(581012,)\n"
          ]
        },
        {
          "output_type": "execute_result",
          "data": {
            "text/plain": [
              "        Unnamed: 0  Unnamed: 1  Unnamed: 2  Elevation  Aspect  Slope  \\\n",
              "0             2596          51           3        258       0    510   \n",
              "1             2590          56           2        212      -6    390   \n",
              "2             2804         139           9        268      65   3180   \n",
              "3             2785         155          18        242     118   3090   \n",
              "4             2595          45           2        153      -1    391   \n",
              "...            ...         ...         ...        ...     ...    ...   \n",
              "581007        2396         153          20         85      17    108   \n",
              "581008        2391         152          19         67      12     95   \n",
              "581009        2386         159          17         60       7     90   \n",
              "581010        2384         170          15         60       5     90   \n",
              "581011        2383         165          13         60       4     67   \n",
              "\n",
              "        Horizontal_Distance_To_Hydrology  Vertical_Distance_To_Hydrology  \\\n",
              "0                                    221                             232   \n",
              "1                                    220                             235   \n",
              "2                                    234                             238   \n",
              "3                                    238                             238   \n",
              "4                                    220                             234   \n",
              "...                                  ...                             ...   \n",
              "581007                               240                             237   \n",
              "581008                               240                             237   \n",
              "581009                               236                             241   \n",
              "581010                               230                             245   \n",
              "581011                               231                             244   \n",
              "\n",
              "        Horizontal_Distance_To_Roadways  Hillshade_9am  ...  Soil_Type32  \\\n",
              "0                                   148           6279  ...            0   \n",
              "1                                   151           6225  ...            0   \n",
              "2                                   135           6121  ...            0   \n",
              "3                                   122           6211  ...            0   \n",
              "4                                   150           6172  ...            0   \n",
              "...                                 ...            ...  ...          ...   \n",
              "581007                              118            837  ...            0   \n",
              "581008                              119            845  ...            0   \n",
              "581009                              130            854  ...            0   \n",
              "581010                              143            864  ...            0   \n",
              "581011                              141            875  ...            0   \n",
              "\n",
              "        Soil_Type33  Soil_Type34  Soil_Type35  Soil_Type36  Soil_Type37  \\\n",
              "0                 0            0            0            0            0   \n",
              "1                 0            0            0            0            0   \n",
              "2                 0            0            0            0            0   \n",
              "3                 0            0            0            0            0   \n",
              "4                 0            0            0            0            0   \n",
              "...             ...          ...          ...          ...          ...   \n",
              "581007            0            0            0            0            0   \n",
              "581008            0            0            0            0            0   \n",
              "581009            0            0            0            0            0   \n",
              "581010            0            0            0            0            0   \n",
              "581011            0            0            0            0            0   \n",
              "\n",
              "        Soil_Type38  Soil_Type39  Soil_Type40  Cover_Type  \n",
              "0                 0            0            0           5  \n",
              "1                 0            0            0           5  \n",
              "2                 0            0            0           2  \n",
              "3                 0            0            0           2  \n",
              "4                 0            0            0           5  \n",
              "...             ...          ...          ...         ...  \n",
              "581007            0            0            0           3  \n",
              "581008            0            0            0           3  \n",
              "581009            0            0            0           3  \n",
              "581010            0            0            0           3  \n",
              "581011            0            0            0           3  \n",
              "\n",
              "[581012 rows x 55 columns]"
            ],
            "text/html": [
              "\n",
              "  <div id=\"df-a6883d79-1938-4149-a20a-780154ce1014\" class=\"colab-df-container\">\n",
              "    <div>\n",
              "<style scoped>\n",
              "    .dataframe tbody tr th:only-of-type {\n",
              "        vertical-align: middle;\n",
              "    }\n",
              "\n",
              "    .dataframe tbody tr th {\n",
              "        vertical-align: top;\n",
              "    }\n",
              "\n",
              "    .dataframe thead th {\n",
              "        text-align: right;\n",
              "    }\n",
              "</style>\n",
              "<table border=\"1\" class=\"dataframe\">\n",
              "  <thead>\n",
              "    <tr style=\"text-align: right;\">\n",
              "      <th></th>\n",
              "      <th>Unnamed: 0</th>\n",
              "      <th>Unnamed: 1</th>\n",
              "      <th>Unnamed: 2</th>\n",
              "      <th>Elevation</th>\n",
              "      <th>Aspect</th>\n",
              "      <th>Slope</th>\n",
              "      <th>Horizontal_Distance_To_Hydrology</th>\n",
              "      <th>Vertical_Distance_To_Hydrology</th>\n",
              "      <th>Horizontal_Distance_To_Roadways</th>\n",
              "      <th>Hillshade_9am</th>\n",
              "      <th>...</th>\n",
              "      <th>Soil_Type32</th>\n",
              "      <th>Soil_Type33</th>\n",
              "      <th>Soil_Type34</th>\n",
              "      <th>Soil_Type35</th>\n",
              "      <th>Soil_Type36</th>\n",
              "      <th>Soil_Type37</th>\n",
              "      <th>Soil_Type38</th>\n",
              "      <th>Soil_Type39</th>\n",
              "      <th>Soil_Type40</th>\n",
              "      <th>Cover_Type</th>\n",
              "    </tr>\n",
              "  </thead>\n",
              "  <tbody>\n",
              "    <tr>\n",
              "      <th>0</th>\n",
              "      <td>2596</td>\n",
              "      <td>51</td>\n",
              "      <td>3</td>\n",
              "      <td>258</td>\n",
              "      <td>0</td>\n",
              "      <td>510</td>\n",
              "      <td>221</td>\n",
              "      <td>232</td>\n",
              "      <td>148</td>\n",
              "      <td>6279</td>\n",
              "      <td>...</td>\n",
              "      <td>0</td>\n",
              "      <td>0</td>\n",
              "      <td>0</td>\n",
              "      <td>0</td>\n",
              "      <td>0</td>\n",
              "      <td>0</td>\n",
              "      <td>0</td>\n",
              "      <td>0</td>\n",
              "      <td>0</td>\n",
              "      <td>5</td>\n",
              "    </tr>\n",
              "    <tr>\n",
              "      <th>1</th>\n",
              "      <td>2590</td>\n",
              "      <td>56</td>\n",
              "      <td>2</td>\n",
              "      <td>212</td>\n",
              "      <td>-6</td>\n",
              "      <td>390</td>\n",
              "      <td>220</td>\n",
              "      <td>235</td>\n",
              "      <td>151</td>\n",
              "      <td>6225</td>\n",
              "      <td>...</td>\n",
              "      <td>0</td>\n",
              "      <td>0</td>\n",
              "      <td>0</td>\n",
              "      <td>0</td>\n",
              "      <td>0</td>\n",
              "      <td>0</td>\n",
              "      <td>0</td>\n",
              "      <td>0</td>\n",
              "      <td>0</td>\n",
              "      <td>5</td>\n",
              "    </tr>\n",
              "    <tr>\n",
              "      <th>2</th>\n",
              "      <td>2804</td>\n",
              "      <td>139</td>\n",
              "      <td>9</td>\n",
              "      <td>268</td>\n",
              "      <td>65</td>\n",
              "      <td>3180</td>\n",
              "      <td>234</td>\n",
              "      <td>238</td>\n",
              "      <td>135</td>\n",
              "      <td>6121</td>\n",
              "      <td>...</td>\n",
              "      <td>0</td>\n",
              "      <td>0</td>\n",
              "      <td>0</td>\n",
              "      <td>0</td>\n",
              "      <td>0</td>\n",
              "      <td>0</td>\n",
              "      <td>0</td>\n",
              "      <td>0</td>\n",
              "      <td>0</td>\n",
              "      <td>2</td>\n",
              "    </tr>\n",
              "    <tr>\n",
              "      <th>3</th>\n",
              "      <td>2785</td>\n",
              "      <td>155</td>\n",
              "      <td>18</td>\n",
              "      <td>242</td>\n",
              "      <td>118</td>\n",
              "      <td>3090</td>\n",
              "      <td>238</td>\n",
              "      <td>238</td>\n",
              "      <td>122</td>\n",
              "      <td>6211</td>\n",
              "      <td>...</td>\n",
              "      <td>0</td>\n",
              "      <td>0</td>\n",
              "      <td>0</td>\n",
              "      <td>0</td>\n",
              "      <td>0</td>\n",
              "      <td>0</td>\n",
              "      <td>0</td>\n",
              "      <td>0</td>\n",
              "      <td>0</td>\n",
              "      <td>2</td>\n",
              "    </tr>\n",
              "    <tr>\n",
              "      <th>4</th>\n",
              "      <td>2595</td>\n",
              "      <td>45</td>\n",
              "      <td>2</td>\n",
              "      <td>153</td>\n",
              "      <td>-1</td>\n",
              "      <td>391</td>\n",
              "      <td>220</td>\n",
              "      <td>234</td>\n",
              "      <td>150</td>\n",
              "      <td>6172</td>\n",
              "      <td>...</td>\n",
              "      <td>0</td>\n",
              "      <td>0</td>\n",
              "      <td>0</td>\n",
              "      <td>0</td>\n",
              "      <td>0</td>\n",
              "      <td>0</td>\n",
              "      <td>0</td>\n",
              "      <td>0</td>\n",
              "      <td>0</td>\n",
              "      <td>5</td>\n",
              "    </tr>\n",
              "    <tr>\n",
              "      <th>...</th>\n",
              "      <td>...</td>\n",
              "      <td>...</td>\n",
              "      <td>...</td>\n",
              "      <td>...</td>\n",
              "      <td>...</td>\n",
              "      <td>...</td>\n",
              "      <td>...</td>\n",
              "      <td>...</td>\n",
              "      <td>...</td>\n",
              "      <td>...</td>\n",
              "      <td>...</td>\n",
              "      <td>...</td>\n",
              "      <td>...</td>\n",
              "      <td>...</td>\n",
              "      <td>...</td>\n",
              "      <td>...</td>\n",
              "      <td>...</td>\n",
              "      <td>...</td>\n",
              "      <td>...</td>\n",
              "      <td>...</td>\n",
              "      <td>...</td>\n",
              "    </tr>\n",
              "    <tr>\n",
              "      <th>581007</th>\n",
              "      <td>2396</td>\n",
              "      <td>153</td>\n",
              "      <td>20</td>\n",
              "      <td>85</td>\n",
              "      <td>17</td>\n",
              "      <td>108</td>\n",
              "      <td>240</td>\n",
              "      <td>237</td>\n",
              "      <td>118</td>\n",
              "      <td>837</td>\n",
              "      <td>...</td>\n",
              "      <td>0</td>\n",
              "      <td>0</td>\n",
              "      <td>0</td>\n",
              "      <td>0</td>\n",
              "      <td>0</td>\n",
              "      <td>0</td>\n",
              "      <td>0</td>\n",
              "      <td>0</td>\n",
              "      <td>0</td>\n",
              "      <td>3</td>\n",
              "    </tr>\n",
              "    <tr>\n",
              "      <th>581008</th>\n",
              "      <td>2391</td>\n",
              "      <td>152</td>\n",
              "      <td>19</td>\n",
              "      <td>67</td>\n",
              "      <td>12</td>\n",
              "      <td>95</td>\n",
              "      <td>240</td>\n",
              "      <td>237</td>\n",
              "      <td>119</td>\n",
              "      <td>845</td>\n",
              "      <td>...</td>\n",
              "      <td>0</td>\n",
              "      <td>0</td>\n",
              "      <td>0</td>\n",
              "      <td>0</td>\n",
              "      <td>0</td>\n",
              "      <td>0</td>\n",
              "      <td>0</td>\n",
              "      <td>0</td>\n",
              "      <td>0</td>\n",
              "      <td>3</td>\n",
              "    </tr>\n",
              "    <tr>\n",
              "      <th>581009</th>\n",
              "      <td>2386</td>\n",
              "      <td>159</td>\n",
              "      <td>17</td>\n",
              "      <td>60</td>\n",
              "      <td>7</td>\n",
              "      <td>90</td>\n",
              "      <td>236</td>\n",
              "      <td>241</td>\n",
              "      <td>130</td>\n",
              "      <td>854</td>\n",
              "      <td>...</td>\n",
              "      <td>0</td>\n",
              "      <td>0</td>\n",
              "      <td>0</td>\n",
              "      <td>0</td>\n",
              "      <td>0</td>\n",
              "      <td>0</td>\n",
              "      <td>0</td>\n",
              "      <td>0</td>\n",
              "      <td>0</td>\n",
              "      <td>3</td>\n",
              "    </tr>\n",
              "    <tr>\n",
              "      <th>581010</th>\n",
              "      <td>2384</td>\n",
              "      <td>170</td>\n",
              "      <td>15</td>\n",
              "      <td>60</td>\n",
              "      <td>5</td>\n",
              "      <td>90</td>\n",
              "      <td>230</td>\n",
              "      <td>245</td>\n",
              "      <td>143</td>\n",
              "      <td>864</td>\n",
              "      <td>...</td>\n",
              "      <td>0</td>\n",
              "      <td>0</td>\n",
              "      <td>0</td>\n",
              "      <td>0</td>\n",
              "      <td>0</td>\n",
              "      <td>0</td>\n",
              "      <td>0</td>\n",
              "      <td>0</td>\n",
              "      <td>0</td>\n",
              "      <td>3</td>\n",
              "    </tr>\n",
              "    <tr>\n",
              "      <th>581011</th>\n",
              "      <td>2383</td>\n",
              "      <td>165</td>\n",
              "      <td>13</td>\n",
              "      <td>60</td>\n",
              "      <td>4</td>\n",
              "      <td>67</td>\n",
              "      <td>231</td>\n",
              "      <td>244</td>\n",
              "      <td>141</td>\n",
              "      <td>875</td>\n",
              "      <td>...</td>\n",
              "      <td>0</td>\n",
              "      <td>0</td>\n",
              "      <td>0</td>\n",
              "      <td>0</td>\n",
              "      <td>0</td>\n",
              "      <td>0</td>\n",
              "      <td>0</td>\n",
              "      <td>0</td>\n",
              "      <td>0</td>\n",
              "      <td>3</td>\n",
              "    </tr>\n",
              "  </tbody>\n",
              "</table>\n",
              "<p>581012 rows × 55 columns</p>\n",
              "</div>\n",
              "    <div class=\"colab-df-buttons\">\n",
              "\n",
              "  <div class=\"colab-df-container\">\n",
              "    <button class=\"colab-df-convert\" onclick=\"convertToInteractive('df-a6883d79-1938-4149-a20a-780154ce1014')\"\n",
              "            title=\"Convert this dataframe to an interactive table.\"\n",
              "            style=\"display:none;\">\n",
              "\n",
              "  <svg xmlns=\"http://www.w3.org/2000/svg\" height=\"24px\" viewBox=\"0 -960 960 960\">\n",
              "    <path d=\"M120-120v-720h720v720H120Zm60-500h600v-160H180v160Zm220 220h160v-160H400v160Zm0 220h160v-160H400v160ZM180-400h160v-160H180v160Zm440 0h160v-160H620v160ZM180-180h160v-160H180v160Zm440 0h160v-160H620v160Z\"/>\n",
              "  </svg>\n",
              "    </button>\n",
              "\n",
              "  <style>\n",
              "    .colab-df-container {\n",
              "      display:flex;\n",
              "      gap: 12px;\n",
              "    }\n",
              "\n",
              "    .colab-df-convert {\n",
              "      background-color: #E8F0FE;\n",
              "      border: none;\n",
              "      border-radius: 50%;\n",
              "      cursor: pointer;\n",
              "      display: none;\n",
              "      fill: #1967D2;\n",
              "      height: 32px;\n",
              "      padding: 0 0 0 0;\n",
              "      width: 32px;\n",
              "    }\n",
              "\n",
              "    .colab-df-convert:hover {\n",
              "      background-color: #E2EBFA;\n",
              "      box-shadow: 0px 1px 2px rgba(60, 64, 67, 0.3), 0px 1px 3px 1px rgba(60, 64, 67, 0.15);\n",
              "      fill: #174EA6;\n",
              "    }\n",
              "\n",
              "    .colab-df-buttons div {\n",
              "      margin-bottom: 4px;\n",
              "    }\n",
              "\n",
              "    [theme=dark] .colab-df-convert {\n",
              "      background-color: #3B4455;\n",
              "      fill: #D2E3FC;\n",
              "    }\n",
              "\n",
              "    [theme=dark] .colab-df-convert:hover {\n",
              "      background-color: #434B5C;\n",
              "      box-shadow: 0px 1px 3px 1px rgba(0, 0, 0, 0.15);\n",
              "      filter: drop-shadow(0px 1px 2px rgba(0, 0, 0, 0.3));\n",
              "      fill: #FFFFFF;\n",
              "    }\n",
              "  </style>\n",
              "\n",
              "    <script>\n",
              "      const buttonEl =\n",
              "        document.querySelector('#df-a6883d79-1938-4149-a20a-780154ce1014 button.colab-df-convert');\n",
              "      buttonEl.style.display =\n",
              "        google.colab.kernel.accessAllowed ? 'block' : 'none';\n",
              "\n",
              "      async function convertToInteractive(key) {\n",
              "        const element = document.querySelector('#df-a6883d79-1938-4149-a20a-780154ce1014');\n",
              "        const dataTable =\n",
              "          await google.colab.kernel.invokeFunction('convertToInteractive',\n",
              "                                                    [key], {});\n",
              "        if (!dataTable) return;\n",
              "\n",
              "        const docLinkHtml = 'Like what you see? Visit the ' +\n",
              "          '<a target=\"_blank\" href=https://colab.research.google.com/notebooks/data_table.ipynb>data table notebook</a>'\n",
              "          + ' to learn more about interactive tables.';\n",
              "        element.innerHTML = '';\n",
              "        dataTable['output_type'] = 'display_data';\n",
              "        await google.colab.output.renderOutput(dataTable, element);\n",
              "        const docLink = document.createElement('div');\n",
              "        docLink.innerHTML = docLinkHtml;\n",
              "        element.appendChild(docLink);\n",
              "      }\n",
              "    </script>\n",
              "  </div>\n",
              "\n",
              "\n",
              "<div id=\"df-9ccd3ac9-d5b9-48c8-b815-a696ad3cb6f1\">\n",
              "  <button class=\"colab-df-quickchart\" onclick=\"quickchart('df-9ccd3ac9-d5b9-48c8-b815-a696ad3cb6f1')\"\n",
              "            title=\"Suggest charts\"\n",
              "            style=\"display:none;\">\n",
              "\n",
              "<svg xmlns=\"http://www.w3.org/2000/svg\" height=\"24px\"viewBox=\"0 0 24 24\"\n",
              "     width=\"24px\">\n",
              "    <g>\n",
              "        <path d=\"M19 3H5c-1.1 0-2 .9-2 2v14c0 1.1.9 2 2 2h14c1.1 0 2-.9 2-2V5c0-1.1-.9-2-2-2zM9 17H7v-7h2v7zm4 0h-2V7h2v10zm4 0h-2v-4h2v4z\"/>\n",
              "    </g>\n",
              "</svg>\n",
              "  </button>\n",
              "\n",
              "<style>\n",
              "  .colab-df-quickchart {\n",
              "      --bg-color: #E8F0FE;\n",
              "      --fill-color: #1967D2;\n",
              "      --hover-bg-color: #E2EBFA;\n",
              "      --hover-fill-color: #174EA6;\n",
              "      --disabled-fill-color: #AAA;\n",
              "      --disabled-bg-color: #DDD;\n",
              "  }\n",
              "\n",
              "  [theme=dark] .colab-df-quickchart {\n",
              "      --bg-color: #3B4455;\n",
              "      --fill-color: #D2E3FC;\n",
              "      --hover-bg-color: #434B5C;\n",
              "      --hover-fill-color: #FFFFFF;\n",
              "      --disabled-bg-color: #3B4455;\n",
              "      --disabled-fill-color: #666;\n",
              "  }\n",
              "\n",
              "  .colab-df-quickchart {\n",
              "    background-color: var(--bg-color);\n",
              "    border: none;\n",
              "    border-radius: 50%;\n",
              "    cursor: pointer;\n",
              "    display: none;\n",
              "    fill: var(--fill-color);\n",
              "    height: 32px;\n",
              "    padding: 0;\n",
              "    width: 32px;\n",
              "  }\n",
              "\n",
              "  .colab-df-quickchart:hover {\n",
              "    background-color: var(--hover-bg-color);\n",
              "    box-shadow: 0 1px 2px rgba(60, 64, 67, 0.3), 0 1px 3px 1px rgba(60, 64, 67, 0.15);\n",
              "    fill: var(--button-hover-fill-color);\n",
              "  }\n",
              "\n",
              "  .colab-df-quickchart-complete:disabled,\n",
              "  .colab-df-quickchart-complete:disabled:hover {\n",
              "    background-color: var(--disabled-bg-color);\n",
              "    fill: var(--disabled-fill-color);\n",
              "    box-shadow: none;\n",
              "  }\n",
              "\n",
              "  .colab-df-spinner {\n",
              "    border: 2px solid var(--fill-color);\n",
              "    border-color: transparent;\n",
              "    border-bottom-color: var(--fill-color);\n",
              "    animation:\n",
              "      spin 1s steps(1) infinite;\n",
              "  }\n",
              "\n",
              "  @keyframes spin {\n",
              "    0% {\n",
              "      border-color: transparent;\n",
              "      border-bottom-color: var(--fill-color);\n",
              "      border-left-color: var(--fill-color);\n",
              "    }\n",
              "    20% {\n",
              "      border-color: transparent;\n",
              "      border-left-color: var(--fill-color);\n",
              "      border-top-color: var(--fill-color);\n",
              "    }\n",
              "    30% {\n",
              "      border-color: transparent;\n",
              "      border-left-color: var(--fill-color);\n",
              "      border-top-color: var(--fill-color);\n",
              "      border-right-color: var(--fill-color);\n",
              "    }\n",
              "    40% {\n",
              "      border-color: transparent;\n",
              "      border-right-color: var(--fill-color);\n",
              "      border-top-color: var(--fill-color);\n",
              "    }\n",
              "    60% {\n",
              "      border-color: transparent;\n",
              "      border-right-color: var(--fill-color);\n",
              "    }\n",
              "    80% {\n",
              "      border-color: transparent;\n",
              "      border-right-color: var(--fill-color);\n",
              "      border-bottom-color: var(--fill-color);\n",
              "    }\n",
              "    90% {\n",
              "      border-color: transparent;\n",
              "      border-bottom-color: var(--fill-color);\n",
              "    }\n",
              "  }\n",
              "</style>\n",
              "\n",
              "  <script>\n",
              "    async function quickchart(key) {\n",
              "      const quickchartButtonEl =\n",
              "        document.querySelector('#' + key + ' button');\n",
              "      quickchartButtonEl.disabled = true;  // To prevent multiple clicks.\n",
              "      quickchartButtonEl.classList.add('colab-df-spinner');\n",
              "      try {\n",
              "        const charts = await google.colab.kernel.invokeFunction(\n",
              "            'suggestCharts', [key], {});\n",
              "      } catch (error) {\n",
              "        console.error('Error during call to suggestCharts:', error);\n",
              "      }\n",
              "      quickchartButtonEl.classList.remove('colab-df-spinner');\n",
              "      quickchartButtonEl.classList.add('colab-df-quickchart-complete');\n",
              "    }\n",
              "    (() => {\n",
              "      let quickchartButtonEl =\n",
              "        document.querySelector('#df-9ccd3ac9-d5b9-48c8-b815-a696ad3cb6f1 button');\n",
              "      quickchartButtonEl.style.display =\n",
              "        google.colab.kernel.accessAllowed ? 'block' : 'none';\n",
              "    })();\n",
              "  </script>\n",
              "</div>\n",
              "\n",
              "  <div id=\"id_cd247b4c-3fbb-4519-893b-ec48a60495f5\">\n",
              "    <style>\n",
              "      .colab-df-generate {\n",
              "        background-color: #E8F0FE;\n",
              "        border: none;\n",
              "        border-radius: 50%;\n",
              "        cursor: pointer;\n",
              "        display: none;\n",
              "        fill: #1967D2;\n",
              "        height: 32px;\n",
              "        padding: 0 0 0 0;\n",
              "        width: 32px;\n",
              "      }\n",
              "\n",
              "      .colab-df-generate:hover {\n",
              "        background-color: #E2EBFA;\n",
              "        box-shadow: 0px 1px 2px rgba(60, 64, 67, 0.3), 0px 1px 3px 1px rgba(60, 64, 67, 0.15);\n",
              "        fill: #174EA6;\n",
              "      }\n",
              "\n",
              "      [theme=dark] .colab-df-generate {\n",
              "        background-color: #3B4455;\n",
              "        fill: #D2E3FC;\n",
              "      }\n",
              "\n",
              "      [theme=dark] .colab-df-generate:hover {\n",
              "        background-color: #434B5C;\n",
              "        box-shadow: 0px 1px 3px 1px rgba(0, 0, 0, 0.15);\n",
              "        filter: drop-shadow(0px 1px 2px rgba(0, 0, 0, 0.3));\n",
              "        fill: #FFFFFF;\n",
              "      }\n",
              "    </style>\n",
              "    <button class=\"colab-df-generate\" onclick=\"generateWithVariable('data')\"\n",
              "            title=\"Generate code using this dataframe.\"\n",
              "            style=\"display:none;\">\n",
              "\n",
              "  <svg xmlns=\"http://www.w3.org/2000/svg\" height=\"24px\"viewBox=\"0 0 24 24\"\n",
              "       width=\"24px\">\n",
              "    <path d=\"M7,19H8.4L18.45,9,17,7.55,7,17.6ZM5,21V16.75L18.45,3.32a2,2,0,0,1,2.83,0l1.4,1.43a1.91,1.91,0,0,1,.58,1.4,1.91,1.91,0,0,1-.58,1.4L9.25,21ZM18.45,9,17,7.55Zm-12,3A5.31,5.31,0,0,0,4.9,8.1,5.31,5.31,0,0,0,1,6.5,5.31,5.31,0,0,0,4.9,4.9,5.31,5.31,0,0,0,6.5,1,5.31,5.31,0,0,0,8.1,4.9,5.31,5.31,0,0,0,12,6.5,5.46,5.46,0,0,0,6.5,12Z\"/>\n",
              "  </svg>\n",
              "    </button>\n",
              "    <script>\n",
              "      (() => {\n",
              "      const buttonEl =\n",
              "        document.querySelector('#id_cd247b4c-3fbb-4519-893b-ec48a60495f5 button.colab-df-generate');\n",
              "      buttonEl.style.display =\n",
              "        google.colab.kernel.accessAllowed ? 'block' : 'none';\n",
              "\n",
              "      buttonEl.onclick = () => {\n",
              "        google.colab.notebook.generateWithVariable('data');\n",
              "      }\n",
              "      })();\n",
              "    </script>\n",
              "  </div>\n",
              "\n",
              "    </div>\n",
              "  </div>\n"
            ],
            "application/vnd.google.colaboratory.intrinsic+json": {
              "type": "dataframe",
              "variable_name": "data"
            }
          },
          "metadata": {},
          "execution_count": 3
        }
      ]
    },
    {
      "cell_type": "code",
      "source": [
        "# Visualizamos la distribución de las clases\n",
        "plt.figure(figsize=(10, 6))\n",
        "y.value_counts().plot(kind='bar')\n",
        "plt.title('Distribución de clases')\n",
        "plt.xlabel('Cover Type')\n",
        "plt.ylabel('Cantidad')\n",
        "plt.show()"
      ],
      "metadata": {
        "colab": {
          "base_uri": "https://localhost:8080/",
          "height": 559
        },
        "id": "d8h5RszzU-E2",
        "outputId": "ef19ebdf-fa2b-43de-feae-ad8af80eac49"
      },
      "execution_count": 32,
      "outputs": [
        {
          "output_type": "display_data",
          "data": {
            "text/plain": [
              "<Figure size 1000x600 with 1 Axes>"
            ],
            "image/png": "[encoded data removed]"
          },
          "metadata": {}
        }
      ]
    },
    {
      "cell_type": "markdown",
      "source": [
        "Normalizamos los datos del dataset con la función \"StandartScaler\" y separamos los datos en 80% de entrenamiento y 20% prueba"
      ],
      "metadata": {
        "id": "4byde1ezupnF"
      }
    },
    {
      "cell_type": "code",
      "source": [
        "# Normalizar las características\n",
        "scaler = StandardScaler()\n",
        "X_scaled = scaler.fit_transform(X)\n",
        "\n",
        "# Separamos los datos de entrenamiento 80% y los datos de prueba 20%\n",
        "X_train, X_test, y_train, y_test = train_test_split(X_scaled, y, test_size=0.2, random_state=42)\n",
        "\n",
        "\n",
        "print(\"Training set shape:\", X_train.shape)\n",
        "print(\"Testing set shape:\", X_test.shape)"
      ],
      "metadata": {
        "colab": {
          "base_uri": "https://localhost:8080/"
        },
        "id": "lvZOUgzsuPhB",
        "outputId": "43d9f1a3-f644-4248-aadc-c716296d425d"
      },
      "execution_count": 4,
      "outputs": [
        {
          "output_type": "stream",
          "name": "stdout",
          "text": [
            "Training set shape: (464809, 54)\n",
            "Testing set shape: (116203, 54)\n"
          ]
        }
      ]
    },
    {
      "cell_type": "code",
      "source": [
        "y"
      ],
      "metadata": {
        "colab": {
          "base_uri": "https://localhost:8080/",
          "height": 458
        },
        "id": "qUaNqhM-NBcU",
        "outputId": "fba7a8b8-b896-43b2-8fa4-83c11c2fa057"
      },
      "execution_count": 5,
      "outputs": [
        {
          "output_type": "execute_result",
          "data": {
            "text/plain": [
              "0         5\n",
              "1         5\n",
              "2         2\n",
              "3         2\n",
              "4         5\n",
              "         ..\n",
              "581007    3\n",
              "581008    3\n",
              "581009    3\n",
              "581010    3\n",
              "581011    3\n",
              "Name: Cover_Type, Length: 581012, dtype: int64"
            ],
            "text/html": [
              "<div>\n",
              "<style scoped>\n",
              "    .dataframe tbody tr th:only-of-type {\n",
              "        vertical-align: middle;\n",
              "    }\n",
              "\n",
              "    .dataframe tbody tr th {\n",
              "        vertical-align: top;\n",
              "    }\n",
              "\n",
              "    .dataframe thead th {\n",
              "        text-align: right;\n",
              "    }\n",
              "</style>\n",
              "<table border=\"1\" class=\"dataframe\">\n",
              "  <thead>\n",
              "    <tr style=\"text-align: right;\">\n",
              "      <th></th>\n",
              "      <th>Cover_Type</th>\n",
              "    </tr>\n",
              "  </thead>\n",
              "  <tbody>\n",
              "    <tr>\n",
              "      <th>0</th>\n",
              "      <td>5</td>\n",
              "    </tr>\n",
              "    <tr>\n",
              "      <th>1</th>\n",
              "      <td>5</td>\n",
              "    </tr>\n",
              "    <tr>\n",
              "      <th>2</th>\n",
              "      <td>2</td>\n",
              "    </tr>\n",
              "    <tr>\n",
              "      <th>3</th>\n",
              "      <td>2</td>\n",
              "    </tr>\n",
              "    <tr>\n",
              "      <th>4</th>\n",
              "      <td>5</td>\n",
              "    </tr>\n",
              "    <tr>\n",
              "      <th>...</th>\n",
              "      <td>...</td>\n",
              "    </tr>\n",
              "    <tr>\n",
              "      <th>581007</th>\n",
              "      <td>3</td>\n",
              "    </tr>\n",
              "    <tr>\n",
              "      <th>581008</th>\n",
              "      <td>3</td>\n",
              "    </tr>\n",
              "    <tr>\n",
              "      <th>581009</th>\n",
              "      <td>3</td>\n",
              "    </tr>\n",
              "    <tr>\n",
              "      <th>581010</th>\n",
              "      <td>3</td>\n",
              "    </tr>\n",
              "    <tr>\n",
              "      <th>581011</th>\n",
              "      <td>3</td>\n",
              "    </tr>\n",
              "  </tbody>\n",
              "</table>\n",
              "<p>581012 rows × 1 columns</p>\n",
              "</div><br><label><b>dtype:</b> int64</label>"
            ]
          },
          "metadata": {},
          "execution_count": 5
        }
      ]
    },
    {
      "cell_type": "markdown",
      "source": [
        "Podemos interpretar que en este dataset tenemos 54 variables de entrada o columnas que estarán en la \"X\" y 7 clases que se encuentran en la columna covertype guardada en la \"Y\".  "
      ],
      "metadata": {
        "id": "yehf3uIEvL4J"
      }
    },
    {
      "cell_type": "code",
      "metadata": {
        "colab": {
          "base_uri": "https://localhost:8080/"
        },
        "id": "cHLPzVMil7r6",
        "outputId": "83b2db74-d397-4971-ce68-25272e04ce3d"
      },
      "source": [
        "# data.shape\n",
        "X.shape[1]"
      ],
      "execution_count": 6,
      "outputs": [
        {
          "output_type": "execute_result",
          "data": {
            "text/plain": [
              "54"
            ]
          },
          "metadata": {},
          "execution_count": 6
        }
      ]
    },
    {
      "cell_type": "code",
      "metadata": {
        "id": "6_iuCOVYT2ee"
      },
      "source": [
        "input_layer_size  = 54\n",
        "num_labels = 7\n",
        "m = y.size"
      ],
      "execution_count": 7,
      "outputs": []
    },
    {
      "cell_type": "markdown",
      "source": [
        "La función \"calcular Sigmoid\" convierte los valores lineales de la combinación lineal de características a probabilidades en el rango (0, 1)."
      ],
      "metadata": {
        "id": "ZovMg4F1w_Jj"
      }
    },
    {
      "cell_type": "code",
      "source": [
        "def  calcularSigmoide(z):\n",
        "    return 1 / (1 + np.exp(-z))"
      ],
      "metadata": {
        "id": "veLxLxxUw_mB"
      },
      "execution_count": 8,
      "outputs": []
    },
    {
      "cell_type": "markdown",
      "source": [
        "La función de \"calcular costo\" calcula el costo regularizado para un conjunto de parámetros theta"
      ],
      "metadata": {
        "id": "NTPU-nRpxV_B"
      }
    },
    {
      "cell_type": "code",
      "metadata": {
        "id": "KXRcTi9Ll_w6"
      },
      "source": [
        "def calcularCosto(theta, X, y, lambda_):\n",
        "    m = y.size\n",
        "\n",
        "    if y.dtype == bool:\n",
        "        y = y.astype(int)\n",
        "\n",
        "    J = 0\n",
        "    grad = np.zeros(theta.shape)\n",
        "\n",
        "    # Calcula la hipótesis\n",
        "    h = calcularSigmoide(X.dot(theta))\n",
        "\n",
        "    # Crea una copia de theta para regularizar\n",
        "    temp = theta.copy()\n",
        "    temp[0] = 0  # No regularizamos el término de sesgo (bias)\n",
        "\n",
        "    # Calcula el costo con regularización\n",
        "    J = (1 / m) * np.sum(-y.dot(np.log(h)) - (1 - y).dot(np.log(1 - h))) + (lambda_ / (2 * m)) * np.sum(np.square(temp))\n",
        "\n",
        "    # Calcula el gradiente con regularización\n",
        "    grad = (1 / m) * (h - y).dot(X)\n",
        "    grad = grad + (lambda_ / m) * temp\n",
        "\n",
        "    return J, grad"
      ],
      "execution_count": 9,
      "outputs": []
    },
    {
      "cell_type": "markdown",
      "source": [
        "La función \"optimizar_theta\" nos permite registrar el costo en cada iteración para poder resolver el gráfico de convergencia del costo"
      ],
      "metadata": {
        "id": "x6WHw93iyCWZ"
      }
    },
    {
      "cell_type": "code",
      "source": [
        "def optimizar_theta(theta_init, X, y, lambda_):\n",
        "    J_history = []  # Lista para almacenar el historial de costo\n",
        "\n",
        "    def callback(theta):\n",
        "        J, _ = calcularCosto(theta, X, y, lambda_)\n",
        "        J_history.append(J)\n",
        "\n",
        "    # Minimización usando BFGS y almacenamiento del historial de costo\n",
        "    res = minimize(fun=lambda t: calcularCosto(t, X, y, lambda_)[0],\n",
        "                   x0=theta_init,\n",
        "                   method='BFGS',\n",
        "                   jac=lambda t: calcularCosto(t, X, y, lambda_)[1],\n",
        "                   callback=callback)\n",
        "\n",
        "    return res.x, J_history\n"
      ],
      "metadata": {
        "id": "-jBKmRpp-XRu"
      },
      "execution_count": 10,
      "outputs": []
    },
    {
      "cell_type": "markdown",
      "source": [
        "Utilizamos valores de entrenamiento para sacar los valores de costo y de la gradiante"
      ],
      "metadata": {
        "id": "G_OxF8Pwxp9z"
      }
    },
    {
      "cell_type": "code",
      "metadata": {
        "id": "fNFmrlyhaCte"
      },
      "source": [
        "# Definimos el tamaño de theta según el número de características en X_train\n",
        "\n",
        "n_features = X_train.shape[1]  # Cantidad de características en X (sin contar el sesgo)\n",
        "theta_init = np.zeros(n_features + 1)  # Agregamos 1 para el término de sesgo\n",
        "\n",
        "# Seleccionamos las primeras 5 filas de X_train para testeo y agregamos la columna de 1s (bias)\n",
        "X_t = X_train[:5, :]\n",
        "y_t = y_train[:5]\n",
        "\n",
        "# Parámetro de regularización\n",
        "lambda_ = 3\n",
        "\n",
        "# Agregamos la columna de 1s para el término de sesgo (bias)\n",
        "X_t = np.concatenate([np.ones((X_t.shape[0], 1)), X_t], axis=1)\n",
        "\n"
      ],
      "execution_count": 11,
      "outputs": []
    },
    {
      "cell_type": "code",
      "metadata": {
        "id": "8-PLzFDnl_w6",
        "colab": {
          "base_uri": "https://localhost:8080/"
        },
        "outputId": "74828dcd-3086-42ab-b732-8f100e7e8954"
      },
      "source": [
        "# Calculamos el costo y el gradiente con los valores de prueba\n",
        "J, grad = calcularCosto(theta_init, X_t, y_t, lambda_)\n",
        "\n",
        "# Mostramos los resultados\n",
        "print('-----------------------')\n",
        "print('Costo         : {:.6f}'.format(J))\n",
        "print('-----------------------')\n",
        "print('Gradientes:')\n",
        "print(grad)"
      ],
      "execution_count": 12,
      "outputs": [
        {
          "output_type": "stream",
          "name": "stdout",
          "text": [
            "-----------------------\n",
            "Costo         : 0.693147\n",
            "-----------------------\n",
            "Gradientes:\n",
            "[-0.9        -0.42706376 -0.13589832  0.19942391  0.46100106  0.28436261\n",
            " -0.52029259 -0.03618084 -0.52169165 -0.29849024  0.14043418  0.20905328\n",
            " -0.24315709 -0.21684713  0.23460565  0.06517465  0.10309414  0.08234148\n",
            "  0.13288433  0.04724981  0.09628734  0.01209996  0.0157995   0.04002771\n",
            "  0.21955213  0.13296098  0.20989455  0.1582798   0.02891261  0.00204509\n",
            "  0.06313308  0.06927439  0.0515375   0.07513201  0.11453028  0.03420467\n",
            " -0.2076003   0.29899729 -0.356913    0.02571677  0.06021238  0.03894674\n",
            "  0.03634539 -0.30464315  0.21062826  0.19348165 -0.76251901 -0.11226282\n",
            "  0.04745704  0.05142847  0.01288154  0.02038776  0.1493605   0.14041259\n",
            "  0.11128819]\n"
          ]
        }
      ]
    },
    {
      "cell_type": "markdown",
      "source": [
        "Y realizamos el gráfico de convergencia de costo"
      ],
      "metadata": {
        "id": "vWEyHZOFNA6l"
      }
    },
    {
      "cell_type": "code",
      "source": [
        "# Optimizamos theta y obtenemos el historial del costo\n",
        "theta_opt, J_history = optimizar_theta(theta_init, X_t, y_t, lambda_)\n",
        "\n",
        "# Graficamos la convergencia del costo\n",
        "plt.figure(figsize=(10, 6))\n",
        "plt.plot(range(len(J_history)), J_history, 'b-')\n",
        "plt.title(\"Convergencia del costo\")\n",
        "plt.xlabel(\"Número de iteraciones\")\n",
        "plt.ylabel(\"Costo J\")\n",
        "plt.grid(True)\n",
        "plt.show()\n",
        "\n",
        "print(f\"Número de iteraciones: {len(J_history)}\")"
      ],
      "metadata": {
        "colab": {
          "base_uri": "https://localhost:8080/",
          "height": 894
        },
        "id": "0E_FT_xI_JS3",
        "outputId": "25298c33-8cc7-4d74-cae9-92edce711df8"
      },
      "execution_count": 13,
      "outputs": [
        {
          "output_type": "stream",
          "name": "stderr",
          "text": [
            "<ipython-input-9-e3b9fd888acd>:18: RuntimeWarning: divide by zero encountered in log\n",
            "  J = (1 / m) * np.sum(-y.dot(np.log(h)) - (1 - y).dot(np.log(1 - h))) + (lambda_ / (2 * m)) * np.sum(np.square(temp))\n",
            "<ipython-input-9-e3b9fd888acd>:18: RuntimeWarning: divide by zero encountered in log\n",
            "  J = (1 / m) * np.sum(-y.dot(np.log(h)) - (1 - y).dot(np.log(1 - h))) + (lambda_ / (2 * m)) * np.sum(np.square(temp))\n",
            "<ipython-input-9-e3b9fd888acd>:18: RuntimeWarning: divide by zero encountered in log\n",
            "  J = (1 / m) * np.sum(-y.dot(np.log(h)) - (1 - y).dot(np.log(1 - h))) + (lambda_ / (2 * m)) * np.sum(np.square(temp))\n",
            "<ipython-input-9-e3b9fd888acd>:18: RuntimeWarning: divide by zero encountered in log\n",
            "  J = (1 / m) * np.sum(-y.dot(np.log(h)) - (1 - y).dot(np.log(1 - h))) + (lambda_ / (2 * m)) * np.sum(np.square(temp))\n",
            "<ipython-input-9-e3b9fd888acd>:18: RuntimeWarning: divide by zero encountered in log\n",
            "  J = (1 / m) * np.sum(-y.dot(np.log(h)) - (1 - y).dot(np.log(1 - h))) + (lambda_ / (2 * m)) * np.sum(np.square(temp))\n",
            "<ipython-input-9-e3b9fd888acd>:18: RuntimeWarning: divide by zero encountered in log\n",
            "  J = (1 / m) * np.sum(-y.dot(np.log(h)) - (1 - y).dot(np.log(1 - h))) + (lambda_ / (2 * m)) * np.sum(np.square(temp))\n",
            "<ipython-input-9-e3b9fd888acd>:18: RuntimeWarning: divide by zero encountered in log\n",
            "  J = (1 / m) * np.sum(-y.dot(np.log(h)) - (1 - y).dot(np.log(1 - h))) + (lambda_ / (2 * m)) * np.sum(np.square(temp))\n",
            "<ipython-input-9-e3b9fd888acd>:18: RuntimeWarning: divide by zero encountered in log\n",
            "  J = (1 / m) * np.sum(-y.dot(np.log(h)) - (1 - y).dot(np.log(1 - h))) + (lambda_ / (2 * m)) * np.sum(np.square(temp))\n",
            "<ipython-input-9-e3b9fd888acd>:18: RuntimeWarning: divide by zero encountered in log\n",
            "  J = (1 / m) * np.sum(-y.dot(np.log(h)) - (1 - y).dot(np.log(1 - h))) + (lambda_ / (2 * m)) * np.sum(np.square(temp))\n"
          ]
        },
        {
          "output_type": "display_data",
          "data": {
            "text/plain": [
              "<Figure size 1000x600 with 1 Axes>"
            ],
            "image/png": "[encoded data removed]"
          },
          "metadata": {}
        },
        {
          "output_type": "stream",
          "name": "stdout",
          "text": [
            "Número de iteraciones: 6\n"
          ]
        }
      ]
    },
    {
      "cell_type": "markdown",
      "source": [
        "También realizamos pruebas con valores generados para X y Y."
      ],
      "metadata": {
        "id": "jVgBjnlGNFRr"
      }
    },
    {
      "cell_type": "code",
      "source": [
        "# generar datos de ejemplo:\n",
        "#np.random.seed(42)\n",
        "#X_tr = np.random.rand(100, 5)\n",
        "#y_tr = np.random.randint(0, 2, 100)\n",
        "\n",
        "#n_features = X_train.shape[1]\n",
        "#theta_init = np.zeros(n_features + 1)\n",
        "\n",
        "# Agregamos la columna de 1s para el término de sesgo (bias)\n",
        "#X = np.concatenate([np.ones((X_tr.shape[0], 1)), X_tr], axis=1)\n",
        "\n",
        "#lambda_ = 3\n",
        "\n",
        "# Optimizamos theta y obtenemos el historial del costo\n",
        "#theta_opt, J_history = optimizar_theta(theta_init, X, y_tr, lambda_)\n"
      ],
      "metadata": {
        "id": "41sxiY-PIg6d"
      },
      "execution_count": 15,
      "outputs": []
    },
    {
      "cell_type": "markdown",
      "source": [
        "Se puede apreciar que los resultados son aceptables en comparación con los anteriores"
      ],
      "metadata": {
        "id": "2uiwb5ouNkxr"
      }
    },
    {
      "cell_type": "code",
      "source": [
        "# Graficamos la convergencia del costo\n",
        "#plt.figure(figsize=(10, 6))\n",
        "#plt.plot(range(len(J_history)), J_history, 'b-')\n",
        "#plt.title(\"Convergencia del costo\")\n",
        "#plt.xlabel(\"Número de iteraciones\")\n",
        "#plt.ylabel(\"Costo J\")\n",
        "#plt.grid(True)\n",
        "#plt.show()\n",
        "\n",
        "#print(f\"Número de iteraciones: {len(J_history)}\")\n",
        "#print(f\"Costo final: {J_history[-1]:.6f}\")\n",
        "\n",
        "# Calculamos el costo y el gradiente final\n",
        "#J_final, grad_final = calcularCosto(theta_opt, X, y_train, lambda_)\n",
        "\n",
        "#print('-----------------------')\n",
        "#print('Costo final    : {:.6f}'.format(J_final))\n",
        "#print('-----------------------')\n",
        "#print('Gradientes finales:')\n",
        "#print(grad_final)"
      ],
      "metadata": {
        "id": "tGS7s1RyNb-z"
      },
      "execution_count": 17,
      "outputs": []
    },
    {
      "cell_type": "markdown",
      "source": [
        "  Ahora aplicamos el algoritmo de One vs all para poder sacar all_theta con todos los parametros que sirve para clasificar cada clase. En otras palabras es un clasificador para cada clase contra todas las demás. Como un regresión logística para varias clases ya no solo binaria."
      ],
      "metadata": {
        "id": "KyAhKwIIN4_q"
      }
    },
    {
      "cell_type": "code",
      "metadata": {
        "id": "1AmmPf2RjvfZ"
      },
      "source": [
        "def oneVsAll(X, y, num_labels, lambda_):\n",
        "\n",
        "    m, n = X.shape\n",
        "\n",
        "    all_theta = np.zeros((num_labels, n + 1))\n",
        "\n",
        "    # Agrega unos a la matriz X\n",
        "    X = np.concatenate([np.ones((m, 1)), X], axis=1)\n",
        "\n",
        "\n",
        "    for c in np.arange(num_labels):\n",
        "        initial_theta = np.zeros(n + 1)\n",
        "        options = {'maxiter': 100}\n",
        "        res = optimize.minimize(calcularCosto,\n",
        "                                initial_theta,\n",
        "                                (X, (y == (c + 1)), lambda_),\n",
        "                                jac=True,\n",
        "                                method='BFGS',\n",
        "                                options=options)\n",
        "\n",
        "        all_theta[c] = res.x\n",
        "\n",
        "    return all_theta"
      ],
      "execution_count": 18,
      "outputs": []
    },
    {
      "cell_type": "markdown",
      "source": [
        "Ahora llamamos a la función oneVsAll para entrenar modelos de regresión logística para cada una de las clases (manejadas por num_labels), usando un valor muy pequeño de lambda_ que favorece el ajuste del modelo sobre la regularización."
      ],
      "metadata": {
        "id": "S9T6tM2uR6g3"
      }
    },
    {
      "cell_type": "code",
      "metadata": {
        "id": "SM4GZaZNlbkp"
      },
      "source": [
        "lambda_ = 0.001\n",
        "all_theta = oneVsAll(X_train, y_train, num_labels, lambda_)"
      ],
      "execution_count": 19,
      "outputs": []
    },
    {
      "cell_type": "code",
      "metadata": {
        "colab": {
          "base_uri": "https://localhost:8080/"
        },
        "id": "fmh3HiYHlxtQ",
        "outputId": "86b20f3a-85bb-4bc9-dfe0-2daf10d8ca18"
      },
      "source": [
        "print(all_theta)"
      ],
      "execution_count": 20,
      "outputs": [
        {
          "output_type": "stream",
          "name": "stdout",
          "text": [
            "[[-1.56194467e+00  1.96617067e+00 -3.68053509e-02 -5.77751296e-02\n",
            "  -3.00746790e-01 -9.19250429e-02 -1.47989378e-01  2.75855644e-01\n",
            "  -6.74458785e-01  6.09912870e-01 -1.34183761e-02  4.75140691e-01\n",
            "  -1.96425476e-02  1.56827065e-01 -1.26903866e+00 -1.01751053e-01\n",
            "  -7.16276120e-01 -5.11234570e-01 -6.67066727e-02 -8.40496935e-02\n",
            "  -2.72112522e-01 -1.44413447e-01  4.65981131e-03  5.78302617e-02\n",
            "   6.44364431e-02  1.61443632e-02 -1.11733187e-01  3.23157542e-03\n",
            "  -1.43758907e-01 -2.19834540e-03  4.25226487e-02  3.78825278e-02\n",
            "  -6.20915947e-03  6.49724325e-02  1.23909774e-01  1.35379454e-01\n",
            "   2.90784672e-01  2.79303716e-01  1.32785875e-01 -1.99157029e-02\n",
            "  -3.43413657e-04  4.37707213e-02 -1.67984046e-02 -2.65546983e-02\n",
            "  -4.78819941e-02  1.33624028e-01  5.20714353e-02  1.61080404e-01\n",
            "  -7.73896743e-02 -8.53400659e-02 -2.84003213e-02 -3.99415149e-01\n",
            "  -1.43051097e-01 -1.37918406e-01 -1.78405684e-01]\n",
            " [-2.53196221e-01 -1.54865637e+00 -3.60345265e-02  1.19421101e-01\n",
            "   3.26817934e-01  2.81859300e-02  1.29859273e-01  1.67011772e-02\n",
            "   4.90988191e-01 -9.65014126e-02  1.85268793e-02  2.45585220e-01\n",
            "   2.19180165e-01  1.63312339e-01 -1.03056548e+00 -8.26269734e-01\n",
            "  -4.40513357e-01 -2.24615253e-01 -4.13885563e-01 -5.89443028e-01\n",
            "  -2.64986506e-02  1.29482343e-01  9.68515772e-03  1.06936055e-03\n",
            "  -1.36678840e-01  2.14910542e-02  3.19112505e-01  1.30424278e-01\n",
            "  -4.60911211e-01 -2.38495485e-02 -8.02616781e-03 -1.51626496e-01\n",
            "  -7.39809725e-03 -2.77232942e-03 -1.31464408e-02 -9.97772219e-02\n",
            "  -9.70896613e-02 -1.98640001e-02  9.95380549e-02  4.87374609e-02\n",
            "   8.03906967e-02  9.88379646e-03  7.52610407e-02  2.72563903e-01\n",
            "   1.34109574e-01  1.31749331e-01  2.77538314e-01  1.88769972e-01\n",
            "   1.08721939e-01 -1.64648276e-01  5.94176994e-03 -1.43736558e-01\n",
            "  -2.21798833e-01 -2.86171194e-01 -1.63586499e-01]\n",
            " [-9.88783813e+00 -1.60278696e+00  1.62142678e-01  1.74778170e-01\n",
            "   4.37698349e-01  1.08068441e-01 -1.34785871e-01 -2.27611660e-01\n",
            "   3.68287935e-01 -4.78126691e-01 -3.22649102e-01 -8.21359988e-01\n",
            "  -1.41899500e-01  7.51315555e-01  2.75700389e-01  3.23109799e-01\n",
            "   7.06123997e-01  4.23017124e-01  9.16081637e-01  2.10378602e-01\n",
            "   5.91595348e-01  3.52233334e-03 -2.70708197e-03 -1.25318390e-01\n",
            "   1.06938301e+00  6.47018012e-01 -3.02387261e-01  5.51544602e-02\n",
            "   9.98124322e-02 -2.16255925e-02  2.93762228e-01  3.03660872e-01\n",
            "  -1.23779116e-01 -5.62042263e-02 -1.76656746e-01 -5.87455789e-02\n",
            "  -2.18977819e-01 -3.82548456e-01 -4.06136102e-01 -2.10986013e-02\n",
            "  -1.73395380e-01 -8.84224756e-02 -1.84726885e-01 -4.07818283e-01\n",
            "  -3.42962350e-01 -4.78215223e-01  6.43454069e-01 -6.80478256e-01\n",
            "  -1.70520934e-01 -9.42148414e-03 -1.89806621e-02  4.07571015e-03\n",
            "  -3.71594078e-02 -1.10517423e-01 -2.23157375e-02]\n",
            " [-1.83652001e+01 -1.69912997e+00 -6.95267767e-02 -2.23590581e-01\n",
            "  -1.63012453e+00  8.32092508e-01  2.06354404e+00  7.11176922e-01\n",
            "   7.06900523e-01 -3.60894816e-01  1.59391829e+00 -4.60589798e-01\n",
            "  -9.03631390e-02 -8.60608283e-01  2.76876410e+00  1.21307693e-01\n",
            "   2.02591667e-01  3.14519328e-01  3.92316103e-01  9.92932718e-02\n",
            "   2.26595012e-01  3.55147474e-03 -9.21479565e-03 -4.57085688e-02\n",
            "   5.02574370e-01  3.03185722e-01 -1.50859477e-01 -7.51718561e-02\n",
            "   1.32435507e-01 -2.39492207e-02  2.03521006e-01  3.49415849e-01\n",
            "  -5.63983385e-02 -3.27550322e-02 -7.59474517e-02 -1.30351002e-02\n",
            "  -9.79855949e-02 -1.49681232e-01 -5.13064921e-02 -1.66271818e-02\n",
            "  -3.02987072e-02 -7.81842374e-03 -1.28729797e-02 -2.25637023e-01\n",
            "  -1.45691423e-01 -6.98783162e-02 -9.86690926e-02 -1.04667664e-01\n",
            "  -1.55057883e-02 -1.93703708e-02 -4.86863650e-03 -6.65125723e-03\n",
            "  -3.16536738e-02 -3.28861661e-02 -5.31251647e-03]\n",
            " [-6.44988019e+00 -9.03655077e-01  2.65839302e-01  5.99989090e-02\n",
            "  -1.73438725e-01  3.03816919e-01 -7.46376238e-01  3.58984092e-01\n",
            "   5.74422428e-02 -1.92753275e-01 -1.67875392e-01  4.08761630e-01\n",
            "  -7.49735717e-01  7.07333720e-01 -1.59152331e+00 -3.07835585e-01\n",
            "   3.46900265e-02 -5.87385907e-01  5.47076002e-02 -1.78706832e-01\n",
            "  -2.98771113e-01 -2.17389705e-02 -3.33002356e-02 -2.67359539e-01\n",
            "  -5.27513540e-02  1.78432544e-01 -9.20125274e-01  3.32968588e-01\n",
            "  -2.15587272e-01 -7.66604661e-03  2.22221439e-02  2.18469531e-01\n",
            "   1.25291308e-01  2.12254947e-01  9.57722332e-03 -1.57372195e-01\n",
            "  -7.95929478e-01  4.30404570e-01 -3.21177416e-02 -6.64904891e-02\n",
            "   1.51637486e-01 -1.93203392e-01  2.68618360e-03  5.26465137e-01\n",
            "   5.69467969e-01  1.63954369e-01  2.20584694e-01  1.09440587e-01\n",
            "   1.79993381e-02 -1.61269475e-01 -4.02218609e-02 -5.10753095e-02\n",
            "  -3.84665661e-01 -4.70899744e-01 -3.04741631e-01]\n",
            " [-1.24997693e+01 -1.34071980e+00  1.26738987e-02 -3.04802544e-01\n",
            "  -2.71623140e-01 -4.35639804e-02  5.65509218e-02  1.20238817e+00\n",
            "  -1.27278127e+00  1.84144626e+00  3.65235827e-01 -2.92098692e+00\n",
            "  -4.62771857e-01  2.62249301e+00  1.04294047e+00  2.86107887e-01\n",
            "   4.22979350e-01  2.22508466e-01  4.15530886e-01  2.15665611e-01\n",
            "   4.40546599e-01 -2.48589330e-02 -4.17211871e-02 -1.72797138e-01\n",
            "   9.68467447e-01  3.37918591e-01 -5.97957098e-01  6.51909424e-01\n",
            "   1.37404134e-01  4.90018555e-02  3.14254381e-01  2.63154787e-01\n",
            "  -2.44762347e-01 -3.62518841e-01  4.12668898e-01 -2.53657361e-01\n",
            "  -8.87715716e-01 -4.28920136e-01  4.38282937e-01 -2.86235163e-02\n",
            "  -5.01831577e-01 -1.27041710e-01 -2.78731934e-01 -8.76822385e-01\n",
            "  -4.68196450e-01  2.95076604e-01  5.44197693e-01  6.80577115e-01\n",
            "   1.65419669e-01 -1.59698791e-01 -1.91754002e-02 -2.35331474e-02\n",
            "  -3.56660319e-01 -3.85012866e-01 -1.44631236e-01]\n",
            " [-8.29319204e+00  4.35271339e+00  6.79115867e-02 -2.38676440e-01\n",
            "  -4.63460821e-01 -8.10943228e-02 -2.20933171e-01  7.70855330e-02\n",
            "  -5.97337587e-02 -3.62806258e-01  4.82402922e-01 -6.26042474e-01\n",
            "  -2.64793840e-01  7.67225091e-01 -4.34111793e-02 -1.67118130e-02\n",
            "  -1.82125998e-01 -1.04150510e-01  7.50038977e-01 -9.85187473e-03\n",
            "  -6.75201377e-02 -1.93693202e-02 -3.01480432e-02 -1.40503742e-02\n",
            "  -3.64464515e-01 -3.78839725e-01 -3.07192562e-01 -4.63274845e-01\n",
            "  -1.36228573e-02  1.54245442e-03 -1.09976728e-01 -1.76153790e-01\n",
            "  -4.51526235e-02 -1.34524408e-01 -2.90602634e-01 -3.28196736e-02\n",
            "  -2.45583694e-01 -3.16739508e-02 -7.23826298e-02 -1.31164371e-01\n",
            "  -2.68126186e-01  6.08765428e-03 -7.77958117e-02  7.37453688e-01\n",
            "   4.93236017e-01 -2.06484346e-01 -3.03130250e-01 -1.76762423e-01\n",
            "   6.68729231e-02  1.16579890e-01  3.11623066e-02  4.01624359e-01\n",
            "   3.83625011e-01  4.07299013e-01  2.03032587e-01]]\n"
          ]
        }
      ]
    },
    {
      "cell_type": "markdown",
      "source": [
        "Ahora utilizamos la función de \"predicOnevsAll\" que predice qué clase tiene la mayor probabilidad para cada ejemplo de entrada basándose en los parámetros aprendidos."
      ],
      "metadata": {
        "id": "iiqz-9s6SEGd"
      }
    },
    {
      "cell_type": "code",
      "metadata": {
        "id": "tkebj8THl62F"
      },
      "source": [
        "def predictOneVsAll(all_theta, X):\n",
        "    m = X.shape[0];\n",
        "\n",
        "    #obtiene el número de clases a partir de la primera dimensión de all_theta\n",
        "    num_labels = all_theta.shape[0]\n",
        "\n",
        "    #crea un vector de ceros con longitud m, donde cada elemento almacenará la clase predicha para cada ejemplo.\n",
        "    p = np.zeros(m)\n",
        "\n",
        "    # agrega una columna de 1's al principio de X para manejar el término de sesgo en los cálculos.\n",
        "    X = np.concatenate([np.ones((m, 1)), X], axis=1)\n",
        "\n",
        "    #encuentra el índice de la máxima probabilidad a lo largo del eje 1 (es decir, entre las clases), asignando a cada ejemplo la clase con la mayor probabilidad predicha.\n",
        "    p = np.argmax(calcularSigmoide(X.dot(all_theta.T)), axis = 1)\n",
        "\n",
        "    print(p+1)\n",
        "\n",
        "    return p + 1"
      ],
      "execution_count": 29,
      "outputs": []
    },
    {
      "cell_type": "markdown",
      "source": [
        "Ahora predecimos las clases para los conjuntos de entrenamiento (X_train) y de prueba (X_test) usando los parámetros entrenados all_theta."
      ],
      "metadata": {
        "id": "koeOl_iRTNn2"
      }
    },
    {
      "cell_type": "code",
      "metadata": {
        "colab": {
          "base_uri": "https://localhost:8080/"
        },
        "id": "_RXRxD8ym7rt",
        "outputId": "929b9fe5-c108-4d09-c94c-eabfc2a677a0"
      },
      "source": [
        "train_pred = predictOneVsAll(all_theta, X_train)\n",
        "test_pred = predictOneVsAll(all_theta, X_test)\n",
        "\n",
        "print('Precision del conjuto de entrenamiento: {:.2f}%'.format(np.mean(train_pred == y_train) * 100))\n",
        "print('Precision del conjuto de prueba: {:.2f}%'.format(np.mean(test_pred == y_test) * 100))"
      ],
      "execution_count": 30,
      "outputs": [
        {
          "output_type": "stream",
          "name": "stdout",
          "text": [
            "[1 1 2 ... 1 1 1]\n",
            "[1 2 2 ... 2 2 7]\n",
            "Precision del conjuto de entrenamiento: 71.55%\n",
            "Precision del conjuto de prueba: 71.57%\n"
          ]
        }
      ]
    }
  ]
}